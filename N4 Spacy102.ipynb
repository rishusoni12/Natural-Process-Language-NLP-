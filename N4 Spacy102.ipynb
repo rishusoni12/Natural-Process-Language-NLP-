{
 "cells": [
  {
   "cell_type": "code",
   "execution_count": 5,
   "id": "874cf5aa-83bc-42e9-b8ce-dc2c372b85e2",
   "metadata": {},
   "outputs": [],
   "source": [
    "import spacy"
   ]
  },
  {
   "cell_type": "code",
   "execution_count": 11,
   "id": "185c0682-e15d-4066-87e0-d12b33d83311",
   "metadata": {},
   "outputs": [
    {
     "name": "stdout",
     "output_type": "stream",
     "text": [
      "Tesla PROPN nsubj\n",
      "is AUX aux\n",
      "looking VERB ROOT\n",
      "at ADP prep\n",
      "buying VERB pcomp\n",
      "U.S PROPN dobj\n",
      "startup VERB advcl\n",
      "for ADP prep\n",
      "$ SYM quantmod\n",
      "6 NUM compound\n",
      "million NUM pobj\n"
     ]
    }
   ],
   "source": [
    "nlp=spacy.load(\"en_core_web_sm\")\n",
    "\n",
    "#create document object\n",
    "doc=nlp(u\"Tesla is looking at buying U.S startup for $6 million\")\n",
    "\n",
    "#print each token separtely\n",
    "for token in doc:\n",
    "    print(token.text, token.pos_, token.dep_)"
   ]
  },
  {
   "cell_type": "code",
   "execution_count": 13,
   "id": "3e9d8f40-bd5a-414e-aa4d-0421e79ec48f",
   "metadata": {},
   "outputs": [
    {
     "data": {
      "text/plain": [
       "[('tok2vec', <spacy.pipeline.tok2vec.Tok2Vec at 0x20911cc3ad0>),\n",
       " ('tagger', <spacy.pipeline.tagger.Tagger at 0x20911cc2f30>),\n",
       " ('parser', <spacy.pipeline.dep_parser.DependencyParser at 0x20911a6f5a0>),\n",
       " ('attribute_ruler',\n",
       "  <spacy.pipeline.attributeruler.AttributeRuler at 0x2090cfca750>),\n",
       " ('lemmatizer', <spacy.lang.en.lemmatizer.EnglishLemmatizer at 0x2090cea5950>),\n",
       " ('ner', <spacy.pipeline.ner.EntityRecognizer at 0x20911a6fa70>)]"
      ]
     },
     "execution_count": 13,
     "metadata": {},
     "output_type": "execute_result"
    }
   ],
   "source": [
    "nlp.pipeline  #"
   ]
  },
  {
   "cell_type": "code",
   "execution_count": 15,
   "id": "f68e3d9d-538a-4f9f-ae86-ee7e71e2dfd1",
   "metadata": {},
   "outputs": [
    {
     "data": {
      "text/plain": [
       "['tok2vec', 'tagger', 'parser', 'attribute_ruler', 'lemmatizer', 'ner']"
      ]
     },
     "execution_count": 15,
     "metadata": {},
     "output_type": "execute_result"
    }
   ],
   "source": [
    "nlp.pipe_names"
   ]
  },
  {
   "cell_type": "raw",
   "id": "9258f7f9-3527-431c-bba6-cec7470e1e7c",
   "metadata": {},
   "source": [
    "Tokenization "
   ]
  },
  {
   "cell_type": "code",
   "execution_count": 19,
   "id": "b4e15b82-ac0e-471b-aa34-1d04990f79dc",
   "metadata": {},
   "outputs": [
    {
     "name": "stdout",
     "output_type": "stream",
     "text": [
      "Tesla PROPN nsubj\n",
      "is AUX aux\n",
      "not PART neg\n",
      "looking VERB ROOT\n",
      "into ADP prep\n",
      "startup NOUN pobj\n",
      "anymore ADV advmod\n"
     ]
    }
   ],
   "source": [
    "doc2 = nlp(u\"Tesla is not looking into startup anymore\")\n",
    "\n",
    "for i in doc2:\n",
    "    print(i.text, i.pos_, i.dep_)"
   ]
  },
  {
   "cell_type": "code",
   "execution_count": 21,
   "id": "123fd88b-8787-42eb-8c1d-a6bfdc179830",
   "metadata": {},
   "outputs": [
    {
     "data": {
      "text/plain": [
       "Tesla is not looking into startup anymore"
      ]
     },
     "execution_count": 21,
     "metadata": {},
     "output_type": "execute_result"
    }
   ],
   "source": [
    "doc2"
   ]
  },
  {
   "cell_type": "code",
   "execution_count": 23,
   "id": "6ee894e9-f83f-451a-a083-5e3938e0baba",
   "metadata": {},
   "outputs": [
    {
     "data": {
      "text/plain": [
       "Tesla"
      ]
     },
     "execution_count": 23,
     "metadata": {},
     "output_type": "execute_result"
    }
   ],
   "source": [
    "doc2[0]"
   ]
  },
  {
   "cell_type": "code",
   "execution_count": null,
   "id": "27ead092-1726-4b8e-af0f-560fbd27716a",
   "metadata": {},
   "outputs": [],
   "source": []
  }
 ],
 "metadata": {
  "kernelspec": {
   "display_name": "Python 3 (ipykernel)",
   "language": "python",
   "name": "python3"
  },
  "language_info": {
   "codemirror_mode": {
    "name": "ipython",
    "version": 3
   },
   "file_extension": ".py",
   "mimetype": "text/x-python",
   "name": "python",
   "nbconvert_exporter": "python",
   "pygments_lexer": "ipython3",
   "version": "3.12.4"
  }
 },
 "nbformat": 4,
 "nbformat_minor": 5
}
