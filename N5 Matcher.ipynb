{
 "cells": [
  {
   "cell_type": "code",
   "execution_count": null,
   "id": "e017b9d1-c2e3-425a-a841-decb0ddedb26",
   "metadata": {},
   "outputs": [],
   "source": [
    "#Vocalbury Matcher"
   ]
  },
  {
   "cell_type": "code",
   "execution_count": 18,
   "id": "ee16c3f9-ba9c-4cc5-94c5-d0a74f9a59a4",
   "metadata": {},
   "outputs": [],
   "source": [
    "import spacy\n",
    "nlp = spacy.load(\"en_core_web_sm\")"
   ]
  },
  {
   "cell_type": "code",
   "execution_count": 26,
   "id": "73ed6482-831c-4cb8-a6a6-6f366c898ef5",
   "metadata": {},
   "outputs": [],
   "source": [
    "from spacy.matcher import Matcher\n",
    "\n",
    "matcher = Matcher(doc.vocab)"
   ]
  },
  {
   "cell_type": "code",
   "execution_count": 58,
   "id": "947017e8-a52d-4719-8f79-0f83556455d8",
   "metadata": {},
   "outputs": [],
   "source": [
    "# Initialize matcher\n",
    "matcher = Matcher(nlp.vocab)\n",
    "\n",
    "# Define patterns\n",
    "p1 = [{'LOWER': 'solarpower'}]\n",
    "p2 = [{'LOWER': 'solar'}, {'LOWER': 'power'}]\n",
    "p3 = [{'LOWER': 'solar'}, {'IS_PUNCT': True}, {'LOWER': 'power'}]\n",
    "\n",
    "# Add patterns to matcher\n",
    "matcher.add('SolarPower', [p1, p2, p3])"
   ]
  },
  {
   "cell_type": "code",
   "execution_count": 78,
   "id": "8b47ff3f-141b-4ebe-ab33-dbc4d8430854",
   "metadata": {},
   "outputs": [],
   "source": [
    "doc = nlp(u\"Solar Power industry continue to grow demand \\\n",
    "for solarpower increase. Solar-power cars are gining popularity.\")"
   ]
  },
  {
   "cell_type": "code",
   "execution_count": 62,
   "id": "e1bd5946-30dd-46e5-a9d1-40bd8d4c0aaa",
   "metadata": {},
   "outputs": [
    {
     "data": {
      "text/plain": [
       "[(8656102463236116519, 0, 2),\n",
       " (8656102463236116519, 8, 9),\n",
       " (8656102463236116519, 11, 14)]"
      ]
     },
     "execution_count": 62,
     "metadata": {},
     "output_type": "execute_result"
    }
   ],
   "source": [
    "found_match = matcher(doc)\n",
    "found_match"
   ]
  },
  {
   "cell_type": "code",
   "execution_count": 64,
   "id": "1826b080-7a30-4580-9b4a-2aaab4410701",
   "metadata": {},
   "outputs": [
    {
     "name": "stdout",
     "output_type": "stream",
     "text": [
      "8656102463236116519 SolarPower 0 2 Solar Power\n",
      "8656102463236116519 SolarPower 8 9 solarpower\n",
      "8656102463236116519 SolarPower 11 14 Solar-power\n"
     ]
    }
   ],
   "source": [
    "for match_id, start, end in found_match:\n",
    "    string_id = nlp.vocab.strings[match_id]   #get string representation\n",
    "    span = doc[start:end]                      # get the match span\n",
    "    print(match_id, string_id, start, end, span.text)"
   ]
  },
  {
   "cell_type": "code",
   "execution_count": 82,
   "id": "20e132dd-3648-4ef6-9b25-3f1b657eb44e",
   "metadata": {},
   "outputs": [
    {
     "ename": "TypeError",
     "evalue": "unhashable type: 'dict'",
     "output_type": "error",
     "traceback": [
      "\u001b[1;31m---------------------------------------------------------------------------\u001b[0m",
      "\u001b[1;31mTypeError\u001b[0m                                 Traceback (most recent call last)",
      "Cell \u001b[1;32mIn[82], line 6\u001b[0m\n\u001b[0;32m      3\u001b[0m pattern2 \u001b[38;5;241m=\u001b[39m [{\u001b[38;5;124m\"\u001b[39m\u001b[38;5;124mLower\u001b[39m\u001b[38;5;124m\"\u001b[39m:\u001b[38;5;124m\"\u001b[39m\u001b[38;5;124msolar\u001b[39m\u001b[38;5;124m\"\u001b[39m}, {\u001b[38;5;124m\"\u001b[39m\u001b[38;5;124mIS_PUNCT\u001b[39m\u001b[38;5;124m\"\u001b[39m:\u001b[38;5;28;01mTrue\u001b[39;00m, \u001b[38;5;124m\"\u001b[39m\u001b[38;5;124mOP\u001b[39m\u001b[38;5;124m\"\u001b[39m:\u001b[38;5;124m\"\u001b[39m\u001b[38;5;124m*\u001b[39m\u001b[38;5;124m\"\u001b[39m}, {\u001b[38;5;124m\"\u001b[39m\u001b[38;5;124mLOWER\u001b[39m\u001b[38;5;124m\"\u001b[39m:\u001b[38;5;124m\"\u001b[39m\u001b[38;5;124mpower\u001b[39m\u001b[38;5;124m\"\u001b[39m}]\n\u001b[0;32m      5\u001b[0m \u001b[38;5;66;03m#Add the new set of pattern to  the solarPower matcher\u001b[39;00m\n\u001b[1;32m----> 6\u001b[0m matcher\u001b[38;5;241m.\u001b[39madd(\u001b[38;5;124m\"\u001b[39m\u001b[38;5;124mSolarPower\u001b[39m\u001b[38;5;124m\"\u001b[39m, [pattern1, pattern2])\n\u001b[0;32m      8\u001b[0m doc \u001b[38;5;241m=\u001b[39m nlp(\u001b[38;5;124mu\u001b[39m\u001b[38;5;124m\"\u001b[39m\u001b[38;5;124mSolar Power industry continue to grow demand \u001b[39m\u001b[38;5;130;01m\\\u001b[39;00m\n\u001b[0;32m      9\u001b[0m \u001b[38;5;124mfor solarpower increase. Solar-power cars are gining popularity.\u001b[39m\u001b[38;5;124m\"\u001b[39m)\n\u001b[0;32m     11\u001b[0m found_match \u001b[38;5;241m=\u001b[39m matcher(doc)\n",
      "File \u001b[1;32m~\\anaconda3\\Lib\\site-packages\\spacy\\matcher\\phrasematcher.pyx:214\u001b[0m, in \u001b[0;36mspacy.matcher.phrasematcher.PhraseMatcher.add\u001b[1;34m()\u001b[0m\n",
      "\u001b[1;31mTypeError\u001b[0m: unhashable type: 'dict'"
     ]
    }
   ],
   "source": [
    "#Redefine the Pattern\n",
    "pattern1 = [{\"Lower\":\"solarpower\"}]\n",
    "pattern2 = [{\"Lower\":\"solar\"}, {\"IS_PUNCT\":True, \"OP\":\"*\"}, {\"LOWER\":\"power\"}]\n",
    "\n",
    "#Add the new set of pattern to  the solarPower matcher\n",
    "matcher.add(\"SolarPower\", [pattern1, pattern2])\n",
    "\n",
    "doc = nlp(u\"Solar Power industry continue to grow demand \\\n",
    "for solarpower increase. Solar-power cars are gining popularity.\")\n",
    "\n",
    "found_match = matcher(doc)\n",
    "found_match"
   ]
  },
  {
   "cell_type": "raw",
   "id": "21b79285-3515-4f7a-b565-f6d792737e82",
   "metadata": {},
   "source": [
    "Be careful with lemma"
   ]
  },
  {
   "cell_type": "code",
   "execution_count": 72,
   "id": "0cf6e1b1-58df-424f-b8e4-72584fd08f94",
   "metadata": {},
   "outputs": [
    {
     "ename": "ValueError",
     "evalue": "[E175] Can't remove rule for unknown match pattern ID: SolarPower",
     "output_type": "error",
     "traceback": [
      "\u001b[1;31m---------------------------------------------------------------------------\u001b[0m",
      "\u001b[1;31mValueError\u001b[0m                                Traceback (most recent call last)",
      "Cell \u001b[1;32mIn[72], line 5\u001b[0m\n\u001b[0;32m      2\u001b[0m pattern2 \u001b[38;5;241m=\u001b[39m [{\u001b[38;5;124m\"\u001b[39m\u001b[38;5;124mLOWER\u001b[39m\u001b[38;5;124m\"\u001b[39m: \u001b[38;5;124m\"\u001b[39m\u001b[38;5;124msolar\u001b[39m\u001b[38;5;124m\"\u001b[39m}, {\u001b[38;5;124m\"\u001b[39m\u001b[38;5;124mIS_PUNCT\u001b[39m\u001b[38;5;124m\"\u001b[39m:\u001b[38;5;28;01mTrue\u001b[39;00m, \u001b[38;5;124m\"\u001b[39m\u001b[38;5;124mOP\u001b[39m\u001b[38;5;124m\"\u001b[39m:\u001b[38;5;124m\"\u001b[39m\u001b[38;5;124m*\u001b[39m\u001b[38;5;124m\"\u001b[39m}, {\u001b[38;5;124m\"\u001b[39m\u001b[38;5;124mLemma\u001b[39m\u001b[38;5;124m\"\u001b[39m:\u001b[38;5;124m\"\u001b[39m\u001b[38;5;124mpower\u001b[39m\u001b[38;5;124m\"\u001b[39m}]\n\u001b[0;32m      4\u001b[0m \u001b[38;5;66;03m#Remove the old pattern to avoid duplicate\u001b[39;00m\n\u001b[1;32m----> 5\u001b[0m matcher\u001b[38;5;241m.\u001b[39mremove(\u001b[38;5;124m\"\u001b[39m\u001b[38;5;124mSolarPower\u001b[39m\u001b[38;5;124m\"\u001b[39m)  \u001b[38;5;66;03m#agar pahle bana hai toh tabhi use hoga ye line line to nahi\u001b[39;00m\n\u001b[0;32m      7\u001b[0m matcher\u001b[38;5;241m.\u001b[39madd(\u001b[38;5;124m\"\u001b[39m\u001b[38;5;124mSolarPower\u001b[39m\u001b[38;5;124m\"\u001b[39m, [pattern1, pattern2])\n",
      "File \u001b[1;32m~\\anaconda3\\Lib\\site-packages\\spacy\\matcher\\matcher.pyx:164\u001b[0m, in \u001b[0;36mspacy.matcher.matcher.Matcher.remove\u001b[1;34m()\u001b[0m\n",
      "\u001b[1;31mValueError\u001b[0m: [E175] Can't remove rule for unknown match pattern ID: SolarPower"
     ]
    }
   ],
   "source": [
    "pattern1 = [{\"LOWER\":\"solarpower\"}]\n",
    "pattern2 = [{\"LOWER\": \"solar\"}, {\"IS_PUNCT\":True, \"OP\":\"*\"}, {\"Lemma\":\"power\"}]\n",
    "\n",
    "#Remove the old pattern to avoid duplicate\n",
    "matcher.remove(\"SolarPower\")  #agar pahle bana hai toh tabhi use hoga ye line line to nahi\n",
    "\n",
    "matcher.add(\"SolarPower\", [pattern1, pattern2])"
   ]
  },
  {
   "cell_type": "code",
   "execution_count": 40,
   "id": "e9f573fd-1d82-44a7-8500-d1367eea110c",
   "metadata": {},
   "outputs": [
    {
     "data": {
      "text/plain": [
       "[]"
      ]
     },
     "execution_count": 40,
     "metadata": {},
     "output_type": "execute_result"
    }
   ],
   "source": [
    "doc2 = nlp(u\"Solar-powered energy run solar-powered cars.\")\n",
    "\n",
    "found_match = matcher(doc2)\n",
    "found_match"
   ]
  },
  {
   "cell_type": "code",
   "execution_count": null,
   "id": "7b556d5f-d481-4b42-b227-4c0c675d8048",
   "metadata": {},
   "outputs": [],
   "source": [
    "Phrase Matcher"
   ]
  },
  {
   "cell_type": "code",
   "execution_count": 1,
   "id": "500494c3-fe69-4b2b-8c34-22cda99cf9d0",
   "metadata": {},
   "outputs": [],
   "source": [
    "import spacy \n",
    "nlp = spacy.load(\"en_core_web_sm\")"
   ]
  },
  {
   "cell_type": "code",
   "execution_count": 2,
   "id": "9c2a45f9-2636-458d-b54e-1308bea87f88",
   "metadata": {},
   "outputs": [],
   "source": [
    "#import phraserMatcher  Library\n",
    "\n",
    "from spacy.matcher import PhraseMatcher\n",
    "matcher = PhraseMatcher(nlp.vocab)"
   ]
  },
  {
   "cell_type": "code",
   "execution_count": 5,
   "id": "68f292be-6e98-4129-a24a-fa6bb9b8b886",
   "metadata": {},
   "outputs": [],
   "source": [
    "with open(\"reaganomics.txt\", \"r\") as f:\n",
    "    doc3 = nlp(f.read())"
   ]
  },
  {
   "cell_type": "code",
   "execution_count": 19,
   "id": "547c73a2-c3a2-451e-b911-8c6c4c2e4312",
   "metadata": {},
   "outputs": [],
   "source": [
    "#First create a list phrase\n",
    "phrase_list = [\"voodoo economics\", \"supply-side economics\", \"trickle-down economics\", \"free-market economics\"]  #4 pattern ko test file me dekhna hai \n",
    "#Next convert each phrase to Doc object\n",
    "phrase_pattern = [nlp(text) for text in phrase_list]\n",
    "\n",
    "#pass each doc object into matcher\n",
    "matcher.add(\"VoodooEconomics\", None, *phrase_pattern)\n",
    "\n",
    "\n",
    "#Build a list of matcher\n",
    "matches = matcher(doc3)"
   ]
  },
  {
   "cell_type": "code",
   "execution_count": 21,
   "id": "4f4c6fe2-74d0-4327-b330-323bb2cf3943",
   "metadata": {},
   "outputs": [
    {
     "data": {
      "text/plain": [
       "[(14687948216953788918, 41, 45),\n",
       " (3473369816841043438, 41, 45),\n",
       " (14687948216953788918, 49, 53),\n",
       " (3473369816841043438, 49, 53),\n",
       " (14687948216953788918, 54, 56),\n",
       " (3473369816841043438, 54, 56),\n",
       " (14687948216953788918, 61, 65),\n",
       " (3473369816841043438, 61, 65),\n",
       " (14687948216953788918, 673, 677),\n",
       " (3473369816841043438, 673, 677),\n",
       " (14687948216953788918, 2987, 2991),\n",
       " (3473369816841043438, 2987, 2991)]"
      ]
     },
     "execution_count": 21,
     "metadata": {},
     "output_type": "execute_result"
    }
   ],
   "source": [
    "matches  "
   ]
  },
  {
   "cell_type": "code",
   "execution_count": null,
   "id": "8afbe84d-2a80-4292-a687-eb0e52e8e7b9",
   "metadata": {},
   "outputs": [],
   "source": []
  }
 ],
 "metadata": {
  "kernelspec": {
   "display_name": "Python 3 (ipykernel)",
   "language": "python",
   "name": "python3"
  },
  "language_info": {
   "codemirror_mode": {
    "name": "ipython",
    "version": 3
   },
   "file_extension": ".py",
   "mimetype": "text/x-python",
   "name": "python",
   "nbconvert_exporter": "python",
   "pygments_lexer": "ipython3",
   "version": "3.12.4"
  }
 },
 "nbformat": 4,
 "nbformat_minor": 5
}
