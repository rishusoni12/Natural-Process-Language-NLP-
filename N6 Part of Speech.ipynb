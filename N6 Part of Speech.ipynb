{
 "cells": [
  {
   "cell_type": "raw",
   "id": "4ea85fcc-03d5-454c-8f59-5ee6e5028ead",
   "metadata": {},
   "source": [
    "Part of Speech "
   ]
  },
  {
   "cell_type": "code",
   "execution_count": 1,
   "id": "60416c77-b475-4a58-bb2a-212c59e6b106",
   "metadata": {},
   "outputs": [],
   "source": [
    "import spacy \n",
    "nlp = spacy.load(\"en_core_web_sm\")"
   ]
  },
  {
   "cell_type": "code",
   "execution_count": 3,
   "id": "4d5181c8-08f1-42f8-8bfa-829c296d0acf",
   "metadata": {},
   "outputs": [],
   "source": [
    "#document create\n",
    "doc = nlp(u\"The quick brown fox jumped over the lazy dog's back.\")"
   ]
  },
  {
   "cell_type": "code",
   "execution_count": null,
   "id": "68fe91da-3c9f-4c22-9fb6-68e9f1639892",
   "metadata": {},
   "outputs": [],
   "source": [
    "view Token tags\n",
    "pos tag use token.pos_\n",
    "To view the Fined grained tag use token.tag\n"
   ]
  },
  {
   "cell_type": "code",
   "execution_count": 9,
   "id": "ad9dbfb7-8775-4749-8792-35cd1bcd6cb0",
   "metadata": {},
   "outputs": [
    {
     "name": "stdout",
     "output_type": "stream",
     "text": [
      "The quick brown fox jumped over the lazy dog's back.\n"
     ]
    }
   ],
   "source": [
    "print(doc.text)"
   ]
  },
  {
   "cell_type": "code",
   "execution_count": 11,
   "id": "1aeb4ced-9a8c-430f-b5ba-5c7c541e1dc9",
   "metadata": {},
   "outputs": [
    {
     "name": "stdout",
     "output_type": "stream",
     "text": [
      "jumped VERB VBD verb, past tense\n"
     ]
    }
   ],
   "source": [
    "print(doc[4].text, doc[4].pos_, doc[4].tag_, spacy.explain(doc[4].tag_))"
   ]
  },
  {
   "cell_type": "code",
   "execution_count": 15,
   "id": "972a27b7-8567-4159-b1a0-97e65efd8d3c",
   "metadata": {},
   "outputs": [
    {
     "name": "stdout",
     "output_type": "stream",
     "text": [
      "The        DET      DT     determiner\n",
      "quick      ADJ      JJ     adjective (English), other noun-modifier (Chinese)\n",
      "brown      ADJ      JJ     adjective (English), other noun-modifier (Chinese)\n",
      "fox        NOUN     NN     noun, singular or mass\n",
      "jumped     VERB     VBD    verb, past tense\n",
      "over       ADP      IN     conjunction, subordinating or preposition\n",
      "the        DET      DT     determiner\n",
      "lazy       ADJ      JJ     adjective (English), other noun-modifier (Chinese)\n",
      "dog        NOUN     NN     noun, singular or mass\n",
      "'s         PART     POS    possessive ending\n",
      "back       NOUN     NN     noun, singular or mass\n",
      ".          PUNCT    .      punctuation mark, sentence closer\n"
     ]
    }
   ],
   "source": [
    "#We can apply this technique to entire doc text\n",
    "for token in doc:\n",
    "    print(f\"{token.text:{10}} {token.pos_:{8}} {token.tag_:{6}} {spacy.explain(token.tag_)}\")"
   ]
  },
  {
   "cell_type": "code",
   "execution_count": 19,
   "id": "0223825f-d614-4f1b-bd98-ccf0129f9e14",
   "metadata": {},
   "outputs": [
    {
     "name": "stdout",
     "output_type": "stream",
     "text": [
      "The DET DT determiner\n",
      "quick ADJ JJ adjective (English), other noun-modifier (Chinese)\n",
      "brown ADJ JJ adjective (English), other noun-modifier (Chinese)\n",
      "fox NOUN NN noun, singular or mass\n",
      "jumped VERB VBD verb, past tense\n",
      "over ADP IN conjunction, subordinating or preposition\n",
      "the DET DT determiner\n",
      "lazy ADJ JJ adjective (English), other noun-modifier (Chinese)\n",
      "dog NOUN NN noun, singular or mass\n",
      "'s PART POS possessive ending\n",
      "back NOUN NN noun, singular or mass\n",
      ". PUNCT . punctuation mark, sentence closer\n"
     ]
    }
   ],
   "source": [
    "for token in doc:\n",
    "    print(token.text, token.pos_, token.tag_, spacy.explain(token.tag_))"
   ]
  },
  {
   "cell_type": "code",
   "execution_count": 25,
   "id": "bef6cc6e-10f2-4f8c-b876-1e5810ddb1b0",
   "metadata": {},
   "outputs": [
    {
     "name": "stdout",
     "output_type": "stream",
     "text": [
      "read       VERB     VBP    verb, non-3rd person singular present\n"
     ]
    }
   ],
   "source": [
    "doc = nlp(u\"I read book on nlp\")\n",
    "r = doc[1]\n",
    "\n",
    "print(f\"{r.text:{10}} {r.pos_:{8}} {r.tag_:{6}} {spacy.explain(r.tag_)}\")"
   ]
  },
  {
   "cell_type": "raw",
   "id": "c230b139-414b-4556-8a15-760ca015da87",
   "metadata": {},
   "source": [
    "Counting POS Tag    kitne saare pos tag hai  text me"
   ]
  },
  {
   "cell_type": "code",
   "execution_count": 27,
   "id": "04603e5e-f0ff-4781-a00b-2c3c76b011e0",
   "metadata": {},
   "outputs": [
    {
     "data": {
      "text/plain": [
       "{90: 2, 84: 3, 92: 2, 100: 1, 85: 1, 94: 1, 86: 1}"
      ]
     },
     "execution_count": 27,
     "metadata": {},
     "output_type": "execute_result"
    }
   ],
   "source": [
    "doc = nlp(u\"The quick brown fox jumped over the lazy dog's back\")\n",
    "\n",
    "#count frequency of coarse grained pos tag\n",
    "pos_count = doc.count_by(spacy.attrs.POS)\n",
    "pos_count"
   ]
  },
  {
   "cell_type": "code",
   "execution_count": 31,
   "id": "510917b9-4e83-472e-9687-248661f53615",
   "metadata": {},
   "outputs": [
    {
     "data": {
      "text/plain": [
       "'ADJ'"
      ]
     },
     "execution_count": 31,
     "metadata": {},
     "output_type": "execute_result"
    }
   ],
   "source": [
    "doc.vocab[84].text"
   ]
  },
  {
   "cell_type": "code",
   "execution_count": 33,
   "id": "ba5c2b8d-19b1-479c-87eb-1c21393c5df0",
   "metadata": {},
   "outputs": [
    {
     "name": "stdout",
     "output_type": "stream",
     "text": [
      "84. ADJ  : 3\n",
      "85. ADP  : 1\n",
      "86. ADV  : 1\n",
      "90. DET  : 2\n",
      "92. NOUN : 2\n",
      "94. PART : 1\n",
      "100. VERB : 1\n"
     ]
    }
   ],
   "source": [
    "for k, v in sorted(pos_count.items()):\n",
    "    print(f\"{k}. {doc.vocab[k].text:{5}}: {v}\")  #v is frequnecy of pos k is index adj"
   ]
  },
  {
   "cell_type": "code",
   "execution_count": 35,
   "id": "b252db1f-74b8-48b1-9c51-06f3152780cc",
   "metadata": {},
   "outputs": [
    {
     "name": "stdout",
     "output_type": "stream",
     "text": [
      "74. POS : 1\n",
      "164681854541413346. RB  : 1\n",
      "1292078113972184607. IN  : 1\n",
      "10554686591937588953. JJ  : 3\n",
      "15267657372422890137. DT  : 2\n",
      "15308085513773655218. NN  : 2\n",
      "17109001835818727656. VBD : 1\n"
     ]
    }
   ],
   "source": [
    "#count the different fine - grained tag isme hum adjective ke bhi type ko find karenge\n",
    "tag_count = doc.count_by(spacy.attrs.TAG)\n",
    "\n",
    "for k, v in sorted(tag_count.items()):\n",
    "    print(f\"{k}. {doc.vocab[k].text:{4}}: {v}\")"
   ]
  },
  {
   "cell_type": "raw",
   "id": "4404705b-c11e-494d-8542-8a51a2a94700",
   "metadata": {},
   "source": [
    "Visulize the part of speech"
   ]
  },
  {
   "cell_type": "code",
   "execution_count": 15,
   "id": "d64da041-8cff-4075-a340-19a135763a70",
   "metadata": {},
   "outputs": [],
   "source": [
    "import spacy\n",
    "nlp = spacy.load(\"en_core_web_sm\")\n",
    "\n",
    "#use displacy libray to visulize pos\n",
    "from spacy import displacy"
   ]
  },
  {
   "cell_type": "code",
   "execution_count": 49,
   "id": "78246a11-b9ea-413f-905e-5dbcb19a1351",
   "metadata": {},
   "outputs": [],
   "source": [
    "doc = nlp(u\"The quick brown fox jumped over the lazy dog's back.\")\n"
   ]
  },
  {
   "cell_type": "code",
   "execution_count": null,
   "id": "147cd42e-7be2-41c9-9e68-e0ee8112ed52",
   "metadata": {},
   "outputs": [],
   "source": [
    "#Render the dependency parse immediatly inside jumped\n",
    "displacy.render(doc, style=\"dep\", jupyter=True, options={\"distance\":110,\"compact\":\"True\", \"color\":\"Black\", \"bg\":\"#09a3d5\", \"font\":\"Times\"})"
   ]
  },
  {
   "cell_type": "code",
   "execution_count": null,
   "id": "daac43ff-91e0-41f4-99ae-b1af9aa88a7e",
   "metadata": {},
   "outputs": [],
   "source": [
    "#creating visulization outside jupyter  use serve  \n",
    "displacy.serve(doc, style=\"dep\", options={\"distance\":110},auto_select_port=True)"
   ]
  },
  {
   "cell_type": "code",
   "execution_count": null,
   "id": "665e3366-f458-424f-aece-824254d44494",
   "metadata": {},
   "outputs": [],
   "source": [
    "doc2 = nlp(u\"This is a sentence. This is another, possible longer sentence\")\n",
    "\n",
    "#create span from doc.sent\n",
    "spans = list(doc2.sents)\n",
    "\n",
    "displacy.serve(spans, style=\"dep\", options={\"distance\":110},auto_select_port=True)\n"
   ]
  },
  {
   "cell_type": "code",
   "execution_count": null,
   "id": "33e34128-bdff-422f-ae66-ee65466a2e81",
   "metadata": {},
   "outputs": [],
   "source": [
    "options = {\"distance\":110,\"compact\":\"True\", \"color\":\"Black\", \"bg\":\"#09a3d5\", \"font\":\"Times\"}\n",
    "displacy.serve(doc, style=\"dep\", options=options)"
   ]
  },
  {
   "cell_type": "code",
   "execution_count": null,
   "id": "d42dd1b5-786a-46f5-b911-088106c93f72",
   "metadata": {},
   "outputs": [],
   "source": []
  }
 ],
 "metadata": {
  "kernelspec": {
   "display_name": "Python 3 (ipykernel)",
   "language": "python",
   "name": "python3"
  },
  "language_info": {
   "codemirror_mode": {
    "name": "ipython",
    "version": 3
   },
   "file_extension": ".py",
   "mimetype": "text/x-python",
   "name": "python",
   "nbconvert_exporter": "python",
   "pygments_lexer": "ipython3",
   "version": "3.12.4"
  }
 },
 "nbformat": 4,
 "nbformat_minor": 5
}
