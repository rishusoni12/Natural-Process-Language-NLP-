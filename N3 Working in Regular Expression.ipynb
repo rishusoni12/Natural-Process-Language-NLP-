{
 "cells": [
  {
   "cell_type": "raw",
   "id": "0c043ef7-93b6-4d01-93c1-40c44d765d96",
   "metadata": {},
   "source": [
    "Regular Expression    it is use pattern find in pdf "
   ]
  },
  {
   "cell_type": "code",
   "execution_count": 5,
   "id": "b78c2c04-21a2-4108-a3fb-2d52e5eded4e",
   "metadata": {},
   "outputs": [],
   "source": [
    "text = \"The agent phone number is 408-555-1234. Call soon!\""
   ]
  },
  {
   "cell_type": "code",
   "execution_count": 7,
   "id": "8d9e1087-735e-424a-8fe1-6b47c43a7916",
   "metadata": {},
   "outputs": [
    {
     "name": "stdout",
     "output_type": "stream",
     "text": [
      "False\n"
     ]
    }
   ],
   "source": [
    "print(\"the\" in text)"
   ]
  },
  {
   "cell_type": "code",
   "execution_count": 9,
   "id": "21bc7d6d-66bf-473b-91d0-3d652c6037f1",
   "metadata": {},
   "outputs": [
    {
     "name": "stdout",
     "output_type": "stream",
     "text": [
      "True\n"
     ]
    }
   ],
   "source": [
    "print(\"agent\" in text)"
   ]
  },
  {
   "cell_type": "code",
   "execution_count": 5,
   "id": "55d13f58-af30-4b5f-8eaa-b558fffcfbf2",
   "metadata": {},
   "outputs": [],
   "source": [
    "import re"
   ]
  },
  {
   "cell_type": "code",
   "execution_count": 9,
   "id": "af56a4e1-6773-4f0f-aa9e-2986f40dccc8",
   "metadata": {},
   "outputs": [],
   "source": [
    "pattern = \"phone\""
   ]
  },
  {
   "cell_type": "code",
   "execution_count": 49,
   "id": "dc0a7a96-3336-4db6-98f9-498b1690e636",
   "metadata": {},
   "outputs": [
    {
     "data": {
      "text/plain": [
       "<re.Match object; span=(10, 15), match='phone'>"
      ]
     },
     "execution_count": 49,
     "metadata": {},
     "output_type": "execute_result"
    }
   ],
   "source": [
    "re.search(pattern,text)  #search is function  we use   it is check word is match or not"
   ]
  },
  {
   "cell_type": "code",
   "execution_count": 33,
   "id": "d8109cfc-b1c8-4ae1-adcf-6dd45f3b92c6",
   "metadata": {},
   "outputs": [],
   "source": [
    "pattern = \"Not is Text\""
   ]
  },
  {
   "cell_type": "code",
   "execution_count": 35,
   "id": "3d6d7446-d126-4fc8-968b-9a85b813da7b",
   "metadata": {},
   "outputs": [],
   "source": [
    "re.search(pattern,text)"
   ]
  },
  {
   "cell_type": "code",
   "execution_count": null,
   "id": "2be5e1bf-56ee-4b23-b9bf-a135d5194ace",
   "metadata": {},
   "outputs": [],
   "source": [
    "#match is Function is word in pdf or present "
   ]
  },
  {
   "cell_type": "code",
   "execution_count": 11,
   "id": "ddc58b26-c7c1-4590-8917-f20df2c85812",
   "metadata": {},
   "outputs": [],
   "source": [
    "match = re.search(pattern, text)"
   ]
  },
  {
   "cell_type": "code",
   "execution_count": 13,
   "id": "04297816-3fe0-4733-a76f-f6aa9c70dcca",
   "metadata": {},
   "outputs": [
    {
     "data": {
      "text/plain": [
       "<re.Match object; span=(10, 15), match='phone'>"
      ]
     },
     "execution_count": 13,
     "metadata": {},
     "output_type": "execute_result"
    }
   ],
   "source": [
    "match"
   ]
  },
  {
   "cell_type": "code",
   "execution_count": 15,
   "id": "8802deb7-cb76-488f-8807-534daa6c0c0e",
   "metadata": {},
   "outputs": [
    {
     "data": {
      "text/plain": [
       "(10, 15)"
      ]
     },
     "execution_count": 15,
     "metadata": {},
     "output_type": "execute_result"
    }
   ],
   "source": [
    "match.span()"
   ]
  },
  {
   "cell_type": "code",
   "execution_count": 17,
   "id": "1d6a3884-2d3d-48cb-9c42-ba6790bdef8b",
   "metadata": {},
   "outputs": [
    {
     "data": {
      "text/plain": [
       "10"
      ]
     },
     "execution_count": 17,
     "metadata": {},
     "output_type": "execute_result"
    }
   ],
   "source": [
    "match.start()"
   ]
  },
  {
   "cell_type": "code",
   "execution_count": 19,
   "id": "935b9a7f-2043-4de5-b76d-199238459387",
   "metadata": {},
   "outputs": [
    {
     "data": {
      "text/plain": [
       "15"
      ]
     },
     "execution_count": 19,
     "metadata": {},
     "output_type": "execute_result"
    }
   ],
   "source": [
    "match.end()"
   ]
  },
  {
   "cell_type": "code",
   "execution_count": 21,
   "id": "4da9265a-667f-4394-88d5-d224ebc2d58a",
   "metadata": {},
   "outputs": [],
   "source": [
    "text = \"my phone is a new phone\"\n"
   ]
  },
  {
   "cell_type": "code",
   "execution_count": 23,
   "id": "c3edcb8f-42bc-4052-ac38-78ce11308e25",
   "metadata": {},
   "outputs": [],
   "source": [
    "match = re.search(\"phone\",text)\n"
   ]
  },
  {
   "cell_type": "code",
   "execution_count": 25,
   "id": "490ee875-d79a-40b3-9239-9a144f218b33",
   "metadata": {},
   "outputs": [
    {
     "data": {
      "text/plain": [
       "(3, 8)"
      ]
     },
     "execution_count": 25,
     "metadata": {},
     "output_type": "execute_result"
    }
   ],
   "source": [
    "match.span()"
   ]
  },
  {
   "cell_type": "code",
   "execution_count": 27,
   "id": "8bc5b721-476e-4907-b2cc-2aa46d77455f",
   "metadata": {},
   "outputs": [],
   "source": [
    "matches = re.findall(\"phone\",text)"
   ]
  },
  {
   "cell_type": "code",
   "execution_count": 29,
   "id": "2937a17e-c0b6-46e3-bc37-3886547ca90d",
   "metadata": {},
   "outputs": [
    {
     "data": {
      "text/plain": [
       "['phone', 'phone']"
      ]
     },
     "execution_count": 29,
     "metadata": {},
     "output_type": "execute_result"
    }
   ],
   "source": [
    "matches"
   ]
  },
  {
   "cell_type": "code",
   "execution_count": 31,
   "id": "aac776c8-e2b6-44f3-aaa6-0a48e794f418",
   "metadata": {},
   "outputs": [
    {
     "data": {
      "text/plain": [
       "2"
      ]
     },
     "execution_count": 31,
     "metadata": {},
     "output_type": "execute_result"
    }
   ],
   "source": [
    "len(matches)"
   ]
  },
  {
   "cell_type": "code",
   "execution_count": 33,
   "id": "5e2d6ecb-1b59-475a-835d-1f888c8fec6a",
   "metadata": {},
   "outputs": [
    {
     "name": "stdout",
     "output_type": "stream",
     "text": [
      "(3, 8)\n",
      "(18, 23)\n"
     ]
    }
   ],
   "source": [
    "#mach karega kaha kaha dono phone hai index bataega \n",
    "for match in re.finditer(\"phone\", text):\n",
    "    print(match.span())"
   ]
  },
  {
   "cell_type": "raw",
   "id": "fed48794-af0c-4947-befe-d55656430d42",
   "metadata": {},
   "source": [
    "Pattern "
   ]
  },
  {
   "cell_type": "code",
   "execution_count": 37,
   "id": "009e9106-1ea1-4605-93d5-39c7f470aeda",
   "metadata": {},
   "outputs": [],
   "source": [
    "text = \"My telephone number is 408-555-1234\"\n"
   ]
  },
  {
   "cell_type": "code",
   "execution_count": 41,
   "id": "2d5ef938-d399-43fe-bf18-dde185b05daf",
   "metadata": {},
   "outputs": [],
   "source": [
    "phone = re.search(r\"\\d\\d\\d-\\d\\d\\d-\\d\\d\\d\\d\", text)"
   ]
  },
  {
   "cell_type": "code",
   "execution_count": 57,
   "id": "4cdaa06e-9739-4f95-a0f1-5544aa8c6e77",
   "metadata": {},
   "outputs": [
    {
     "data": {
      "text/plain": [
       "'408-555-1234'"
      ]
     },
     "execution_count": 57,
     "metadata": {},
     "output_type": "execute_result"
    }
   ],
   "source": [
    "phone.group()  #jab hum hum hyphan dudte hai toh hum group use akrte hai "
   ]
  },
  {
   "cell_type": "raw",
   "id": "f3d79865-b8b0-4cf7-94ba-7e66a6bb1449",
   "metadata": {},
   "source": [
    "Group"
   ]
  },
  {
   "cell_type": "code",
   "execution_count": 47,
   "id": "b7bd8b9f-55f3-4fde-8589-0cf2827b65db",
   "metadata": {},
   "outputs": [],
   "source": [
    "phone_pattern = re.compile(r\"(\\d{3})-(\\d{3})-(\\d{4})\")     #3 4 jo humne likha hai woh d hai kitni bar hai mean kitne number ke baaad - ye hai "
   ]
  },
  {
   "cell_type": "code",
   "execution_count": 49,
   "id": "217b62c9-e84d-40aa-afdf-830cb9177932",
   "metadata": {},
   "outputs": [],
   "source": [
    "result = re.search(phone_pattern, text)\n"
   ]
  },
  {
   "cell_type": "code",
   "execution_count": 51,
   "id": "bc167608-75df-4274-83c0-22ee9f137588",
   "metadata": {},
   "outputs": [
    {
     "data": {
      "text/plain": [
       "'408-555-1234'"
      ]
     },
     "execution_count": 51,
     "metadata": {},
     "output_type": "execute_result"
    }
   ],
   "source": [
    "result.group()"
   ]
  },
  {
   "cell_type": "code",
   "execution_count": 53,
   "id": "994fee35-ff8c-4068-9ce6-1628b68e279d",
   "metadata": {},
   "outputs": [
    {
     "data": {
      "text/plain": [
       "'408'"
      ]
     },
     "execution_count": 53,
     "metadata": {},
     "output_type": "execute_result"
    }
   ],
   "source": [
    "result.group(1)"
   ]
  },
  {
   "cell_type": "code",
   "execution_count": 59,
   "id": "41629b24-eafb-428c-8a83-92a4042c7c22",
   "metadata": {},
   "outputs": [
    {
     "data": {
      "text/plain": [
       "'555'"
      ]
     },
     "execution_count": 59,
     "metadata": {},
     "output_type": "execute_result"
    }
   ],
   "source": [
    "result.group(2)"
   ]
  },
  {
   "cell_type": "code",
   "execution_count": 63,
   "id": "5248fd37-e6ac-499e-a862-73cce11952d9",
   "metadata": {},
   "outputs": [
    {
     "data": {
      "text/plain": [
       "'1234'"
      ]
     },
     "execution_count": 63,
     "metadata": {},
     "output_type": "execute_result"
    }
   ],
   "source": [
    "result.group(3)"
   ]
  },
  {
   "cell_type": "raw",
   "id": "5cb56dfc-93c8-4242-b707-81cbe7182443",
   "metadata": {},
   "source": [
    "result.group(4)  #error hai  mean value nahi hai "
   ]
  },
  {
   "cell_type": "raw",
   "id": "7ee508ca-2577-40ee-9919-793213907907",
   "metadata": {},
   "source": [
    "Addition REGEXP SYNTAX"
   ]
  },
  {
   "cell_type": "code",
   "execution_count": null,
   "id": "89f300fd-b6c8-4e2f-a937-dbdadd833d4e",
   "metadata": {},
   "outputs": [],
   "source": [
    "#or operator | it or sign"
   ]
  },
  {
   "cell_type": "code",
   "execution_count": 69,
   "id": "59bb4017-b82f-4867-a666-5a8786188182",
   "metadata": {},
   "outputs": [
    {
     "data": {
      "text/plain": [
       "<re.Match object; span=(8, 11), match='man'>"
      ]
     },
     "execution_count": 69,
     "metadata": {},
     "output_type": "execute_result"
    }
   ],
   "source": [
    "re.search(r\"man|women\", \"This is man was here\")"
   ]
  },
  {
   "cell_type": "code",
   "execution_count": 71,
   "id": "79f7da69-ca65-4129-8213-4e62c0eedc4c",
   "metadata": {},
   "outputs": [
    {
     "data": {
      "text/plain": [
       "<re.Match object; span=(8, 13), match='women'>"
      ]
     },
     "execution_count": 71,
     "metadata": {},
     "output_type": "execute_result"
    }
   ],
   "source": [
    "re.search(r\"man|women\", \"This is women was here\")"
   ]
  },
  {
   "cell_type": "code",
   "execution_count": 73,
   "id": "0339681f-9106-46a0-9f3f-f182623c3f08",
   "metadata": {},
   "outputs": [],
   "source": [
    "re.search(r\"man|Women\", \"This is women was here\")"
   ]
  },
  {
   "cell_type": "raw",
   "id": "d558c98c-e33e-46fe-ac0d-812283e5968a",
   "metadata": {},
   "source": [
    "Wildcard"
   ]
  },
  {
   "cell_type": "code",
   "execution_count": 75,
   "id": "9c05de13-2093-47d4-b064-6fa7f52367aa",
   "metadata": {},
   "outputs": [
    {
     "data": {
      "text/plain": [
       "['cat', 'hat', 'sat']"
      ]
     },
     "execution_count": 75,
     "metadata": {},
     "output_type": "execute_result"
    }
   ],
   "source": [
    "re.findall(r\".at\", \"The cat in the hat sat here\")  #r is regular expression"
   ]
  },
  {
   "cell_type": "code",
   "execution_count": 77,
   "id": "dd24f26c-188c-43de-b23c-fc11bb138017",
   "metadata": {
    "scrolled": true
   },
   "outputs": [
    {
     "data": {
      "text/plain": [
       "['bat', 'lat']"
      ]
     },
     "execution_count": 77,
     "metadata": {},
     "output_type": "execute_result"
    }
   ],
   "source": [
    "re.findall(r\".at\", \"The bat went splat\")"
   ]
  },
  {
   "cell_type": "code",
   "execution_count": 79,
   "id": "e5506ebd-20b4-4e60-9512-c3e66e611f57",
   "metadata": {},
   "outputs": [
    {
     "data": {
      "text/plain": [
       "['e bat', 'splat']"
      ]
     },
     "execution_count": 79,
     "metadata": {},
     "output_type": "execute_result"
    }
   ],
   "source": [
    "re.findall(r\"...at\", \"The bat went splat\")   #...at ka matlab hai jo ... dot hai phir at at ke pahle 3 element print hoga kyuki dot jitne sab at ke pahle lement ko print karega "
   ]
  },
  {
   "cell_type": "code",
   "execution_count": null,
   "id": "65360586-3dc4-4cf2-beaf-553c033be023",
   "metadata": {},
   "outputs": [],
   "source": [
    "#one or more non whitspace that end with at   #jaha white space  na  ho "
   ]
  },
  {
   "cell_type": "code",
   "execution_count": 81,
   "id": "b405260e-0462-45fc-8a81-a3ba1d087c8e",
   "metadata": {},
   "outputs": [
    {
     "data": {
      "text/plain": [
       "['bat', 'splat']"
      ]
     },
     "execution_count": 81,
     "metadata": {},
     "output_type": "execute_result"
    }
   ],
   "source": [
    "re.findall(r\"\\S+at\", \"This  bat went splat\")  #at find karo non white  spcace ho jaha pe "
   ]
  },
  {
   "cell_type": "code",
   "execution_count": 83,
   "id": "751998d6-8f7e-40e0-b4da-7c50041d3e1a",
   "metadata": {},
   "outputs": [
    {
     "data": {
      "text/plain": [
       "['bat']"
      ]
     },
     "execution_count": 83,
     "metadata": {},
     "output_type": "execute_result"
    }
   ],
   "source": [
    "re.findall(r\"\\S+at\", \"This  bat went at\")"
   ]
  },
  {
   "cell_type": "raw",
   "id": "c32a7e19-ec93-4974-9810-42597346aef9",
   "metadata": {},
   "source": [
    "Start with and End With"
   ]
  },
  {
   "cell_type": "code",
   "execution_count": 85,
   "id": "c7a69768-6448-48c7-89b7-99c68ed70d82",
   "metadata": {},
   "outputs": [
    {
     "data": {
      "text/plain": [
       "['2']"
      ]
     },
     "execution_count": 85,
     "metadata": {},
     "output_type": "execute_result"
    }
   ],
   "source": [
    "re.findall(r\"\\d$\", \"This end with number 2\")  #End with number   $ mean end with number   #\\d mena number digit"
   ]
  },
  {
   "cell_type": "code",
   "execution_count": 87,
   "id": "d86d47eb-710c-4261-83ca-ac8984b0470b",
   "metadata": {},
   "outputs": [
    {
     "data": {
      "text/plain": [
       "['1']"
      ]
     },
     "execution_count": 87,
     "metadata": {},
     "output_type": "execute_result"
    }
   ],
   "source": [
    " re.findall(r\"^\\d\", \"1 is the loneliest number\")  #Start with number  ^ mean start number  and \\d number of digit"
   ]
  },
  {
   "cell_type": "raw",
   "id": "06f60e48-fc85-41ec-995f-e751894693e4",
   "metadata": {},
   "source": [
    "Exclusive"
   ]
  },
  {
   "cell_type": "code",
   "execution_count": 1,
   "id": "4de7d5db-bd9f-43ac-baee-5b8de8356ee1",
   "metadata": {},
   "outputs": [],
   "source": [
    "phrase  = \"there are 3 number 34 inside 5 this sentence\""
   ]
  },
  {
   "cell_type": "code",
   "execution_count": 91,
   "id": "cc8522bb-21ae-441a-b593-43d7188c390c",
   "metadata": {},
   "outputs": [
    {
     "data": {
      "text/plain": [
       "['t',\n",
       " 'h',\n",
       " 'e',\n",
       " 'r',\n",
       " 'e',\n",
       " ' ',\n",
       " 'a',\n",
       " 'r',\n",
       " 'e',\n",
       " ' ',\n",
       " ' ',\n",
       " 'n',\n",
       " 'u',\n",
       " 'm',\n",
       " 'b',\n",
       " 'e',\n",
       " 'r',\n",
       " ' ',\n",
       " ' ',\n",
       " 'i',\n",
       " 'n',\n",
       " 's',\n",
       " 'i',\n",
       " 'd',\n",
       " 'e',\n",
       " ' ',\n",
       " ' ',\n",
       " 't',\n",
       " 'h',\n",
       " 'i',\n",
       " 's',\n",
       " ' ',\n",
       " 's',\n",
       " 'e',\n",
       " 'n',\n",
       " 't',\n",
       " 'e',\n",
       " 'n',\n",
       " 'c',\n",
       " 'e']"
      ]
     },
     "execution_count": 91,
     "metadata": {},
     "output_type": "execute_result"
    }
   ],
   "source": [
    "re.findall(r\"[^\\d]\", phrase)  #[] iske andar jo lika ha uska matlab ^ start  number and number of digit  isme jaha pe number hai waha pe space dekar sare ko print kar diya "
   ]
  },
  {
   "cell_type": "code",
   "execution_count": 9,
   "id": "a6c05f42-9241-4419-a52f-9f1c8b433a59",
   "metadata": {},
   "outputs": [
    {
     "data": {
      "text/plain": [
       "['there are ', ' number ', ' inside ', ' this sentence']"
      ]
     },
     "execution_count": 9,
     "metadata": {},
     "output_type": "execute_result"
    }
   ],
   "source": [
    "re.findall(r\"[^\\d]+\", phrase)  #isme number digit hath jayge + ka matlab digit remove hoga"
   ]
  },
  {
   "cell_type": "raw",
   "id": "821f28d3-c2ca-4ce5-af2e-3f343ddf3316",
   "metadata": {},
   "source": [
    "We can use to remove punctuation from sentence"
   ]
  },
  {
   "cell_type": "code",
   "execution_count": 27,
   "id": "94e08757-c150-4a83-a1ca-e97c29fca196",
   "metadata": {},
   "outputs": [],
   "source": [
    "test_phras = \"This is a string! But it has punctuation. How can we remove it ?\""
   ]
  },
  {
   "cell_type": "code",
   "execution_count": 37,
   "id": "d88f4ed0-00ff-4115-a723-ab7fce221405",
   "metadata": {},
   "outputs": [
    {
     "data": {
      "text/plain": [
       "['T',\n",
       " 'h',\n",
       " 'i',\n",
       " 's',\n",
       " ' ',\n",
       " 'i',\n",
       " 's',\n",
       " ' ',\n",
       " 'a',\n",
       " ' ',\n",
       " 's',\n",
       " 't',\n",
       " 'r',\n",
       " 'i',\n",
       " 'n',\n",
       " 'g',\n",
       " ' ',\n",
       " 'B',\n",
       " 'u',\n",
       " 't',\n",
       " ' ',\n",
       " 'i',\n",
       " 't',\n",
       " ' ',\n",
       " 'h',\n",
       " 'a',\n",
       " 's',\n",
       " ' ',\n",
       " 'p',\n",
       " 'u',\n",
       " 'n',\n",
       " 'c',\n",
       " 't',\n",
       " 'u',\n",
       " 'a',\n",
       " 't',\n",
       " 'i',\n",
       " 'o',\n",
       " 'n',\n",
       " ' ',\n",
       " 'H',\n",
       " 'o',\n",
       " 'w',\n",
       " ' ',\n",
       " 'c',\n",
       " 'a',\n",
       " 'n',\n",
       " ' ',\n",
       " 'w',\n",
       " 'e',\n",
       " ' ',\n",
       " 'r',\n",
       " 'e',\n",
       " 'm',\n",
       " 'o',\n",
       " 'v',\n",
       " 'e',\n",
       " ' ',\n",
       " 'i',\n",
       " 't',\n",
       " ' ']"
      ]
     },
     "execution_count": 37,
     "metadata": {},
     "output_type": "execute_result"
    }
   ],
   "source": [
    "re.findall(\"[^!.?]\", test_phras)"
   ]
  },
  {
   "cell_type": "code",
   "execution_count": 33,
   "id": "3c029062-9988-43e8-82e2-76694f864fe7",
   "metadata": {},
   "outputs": [
    {
     "data": {
      "text/plain": [
       "['This',\n",
       " 'is',\n",
       " 'a',\n",
       " 'string',\n",
       " 'But',\n",
       " 'it',\n",
       " 'has',\n",
       " 'punctuation',\n",
       " 'How',\n",
       " 'can',\n",
       " 'we',\n",
       " 'remove',\n",
       " 'it']"
      ]
     },
     "execution_count": 33,
     "metadata": {},
     "output_type": "execute_result"
    }
   ],
   "source": [
    "re.findall(\"[^!.? ]+\", test_phras)   # + aishe line me print karta hai  #space diya ? mark ke badd "
   ]
  },
  {
   "cell_type": "code",
   "execution_count": 31,
   "id": "d898d917-194f-48e7-8456-6066cf3e8c1f",
   "metadata": {},
   "outputs": [
    {
     "data": {
      "text/plain": [
       "['This is a string', ' But it has punctuation', ' How can we remove it ']"
      ]
     },
     "execution_count": 31,
     "metadata": {},
     "output_type": "execute_result"
    }
   ],
   "source": [
    "re.findall(\"[^!.?]+\", test_phras)"
   ]
  },
  {
   "cell_type": "code",
   "execution_count": 43,
   "id": "fdefc168-1bde-4ea6-9f8e-b84f6f140aa7",
   "metadata": {},
   "outputs": [
    {
     "data": {
      "text/plain": [
       "'ThisisastringButithaspunctuationHowcanweremoveit'"
      ]
     },
     "execution_count": 43,
     "metadata": {},
     "output_type": "execute_result"
    }
   ],
   "source": [
    "clean = \"\".join(re.findall(\"[^!.? ]+\", test_phras))  #we can use join\n",
    "clean"
   ]
  },
  {
   "cell_type": "code",
   "execution_count": 45,
   "id": "dae07ef3-1251-4e54-acae-a632986926c9",
   "metadata": {},
   "outputs": [
    {
     "data": {
      "text/plain": [
       "'This is a string But it has punctuation How can we remove it'"
      ]
     },
     "execution_count": 45,
     "metadata": {},
     "output_type": "execute_result"
    }
   ],
   "source": [
    "clean = \" \".join(re.findall(\"[^!.? ]+\", test_phras))  #we can use join\n",
    "clean"
   ]
  },
  {
   "cell_type": "code",
   "execution_count": null,
   "id": "fe11ccd7-639b-4a71-8200-34aa1a3b86d9",
   "metadata": {},
   "outputs": [],
   "source": [
    "#Find hypen "
   ]
  },
  {
   "cell_type": "code",
   "execution_count": 51,
   "id": "018ec5c9-ac6a-4233-bfe9-b3d58c420945",
   "metadata": {},
   "outputs": [],
   "source": [
    "text = \"Only find the hypen-word in this sentence. But you do not know how long-ish they are\""
   ]
  },
  {
   "cell_type": "code",
   "execution_count": 55,
   "id": "a4772844-c041-4c1a-819c-f921d558796b",
   "metadata": {},
   "outputs": [
    {
     "data": {
      "text/plain": [
       "['hypen-w', 'long-i']"
      ]
     },
     "execution_count": 55,
     "metadata": {},
     "output_type": "execute_result"
    }
   ],
   "source": [
    "re.findall(r\"[\\w]+-[\\w]\",text) #+ is used full space ke baad"
   ]
  },
  {
   "cell_type": "code",
   "execution_count": 57,
   "id": "5c64c162-0fce-45d3-bae9-09a80cdf711e",
   "metadata": {},
   "outputs": [
    {
     "data": {
      "text/plain": [
       "['hypen-word', 'long-ish']"
      ]
     },
     "execution_count": 57,
     "metadata": {},
     "output_type": "execute_result"
    }
   ],
   "source": [
    "re.findall(r\"[\\w]+-[\\w]+\",text) #imp    it is pattern "
   ]
  },
  {
   "cell_type": "code",
   "execution_count": 61,
   "id": "4ad7e5db-fb54-4a47-8576-2afaca67048b",
   "metadata": {},
   "outputs": [
    {
     "data": {
      "text/plain": [
       "['n-w', 'g-i']"
      ]
     },
     "execution_count": 61,
     "metadata": {},
     "output_type": "execute_result"
    }
   ],
   "source": [
    "re.findall(r\"[\\w]-[\\w]\",text)"
   ]
  },
  {
   "cell_type": "code",
   "execution_count": 63,
   "id": "ef584b61-dab3-4d74-8ab6-715af6cbe87f",
   "metadata": {},
   "outputs": [
    {
     "data": {
      "text/plain": [
       "['n-w', 'g-i']"
      ]
     },
     "execution_count": 63,
     "metadata": {},
     "output_type": "execute_result"
    }
   ],
   "source": [
    "re.findall(r\"[\\w]-+[\\w]\",text)"
   ]
  },
  {
   "cell_type": "code",
   "execution_count": 65,
   "id": "105c02b2-4ad0-4af0-a5c7-5b9a059028c3",
   "metadata": {},
   "outputs": [
    {
     "data": {
      "text/plain": [
       "[]"
      ]
     },
     "execution_count": 65,
     "metadata": {},
     "output_type": "execute_result"
    }
   ],
   "source": [
    "re.findall(r\"[\\w]++[\\w]\",text)"
   ]
  },
  {
   "cell_type": "code",
   "execution_count": 67,
   "id": "847cdc19-60ff-4298-bc8f-669990494ba5",
   "metadata": {},
   "outputs": [
    {
     "data": {
      "text/plain": [
       "['On',\n",
       " 'ly',\n",
       " 'fi',\n",
       " 'nd',\n",
       " 'th',\n",
       " 'hy',\n",
       " 'pe',\n",
       " 'wo',\n",
       " 'rd',\n",
       " 'in',\n",
       " 'th',\n",
       " 'is',\n",
       " 'se',\n",
       " 'nt',\n",
       " 'en',\n",
       " 'ce',\n",
       " 'Bu',\n",
       " 'yo',\n",
       " 'do',\n",
       " 'no',\n",
       " 'kn',\n",
       " 'ow',\n",
       " 'ho',\n",
       " 'lo',\n",
       " 'ng',\n",
       " 'is',\n",
       " 'th',\n",
       " 'ey',\n",
       " 'ar']"
      ]
     },
     "execution_count": 67,
     "metadata": {},
     "output_type": "execute_result"
    }
   ],
   "source": [
    "re.findall(r\"[\\w][\\w]\",text)"
   ]
  },
  {
   "cell_type": "code",
   "execution_count": 69,
   "id": "274e56a2-c437-4198-a360-3e05c0717aa2",
   "metadata": {},
   "outputs": [],
   "source": [
    "test = \"Hello would you like some catfish\"\n",
    "testtwo = \"Hello, would you like to take a catnap\"\n",
    "testthree = \"Hello, have you seen this  caterpillar\""
   ]
  },
  {
   "cell_type": "code",
   "execution_count": 71,
   "id": "7a214566-6502-40b7-838a-27dc9c3fedb8",
   "metadata": {},
   "outputs": [
    {
     "data": {
      "text/plain": [
       "<re.Match object; span=(26, 33), match='catfish'>"
      ]
     },
     "execution_count": 71,
     "metadata": {},
     "output_type": "execute_result"
    }
   ],
   "source": [
    "re.search(r\"cat(fish|nap|claw)\", test)"
   ]
  },
  {
   "cell_type": "code",
   "execution_count": 73,
   "id": "12d2327f-f95d-4c9a-a4bf-0b04e451238f",
   "metadata": {},
   "outputs": [
    {
     "data": {
      "text/plain": [
       "<re.Match object; span=(32, 38), match='catnap'>"
      ]
     },
     "execution_count": 73,
     "metadata": {},
     "output_type": "execute_result"
    }
   ],
   "source": [
    "re.search(r\"cat(fish|nap|claw)\", testtwo)"
   ]
  },
  {
   "cell_type": "code",
   "execution_count": 75,
   "id": "8d418fe1-72a8-4dd9-bd2b-775eb69be144",
   "metadata": {},
   "outputs": [],
   "source": [
    "re.search(r\"cat(fish|nap|claw)\", testthree)  #output nahi aayega kyuki optin me hai nahi jo variable me define kiya hai "
   ]
  },
  {
   "cell_type": "code",
   "execution_count": 79,
   "id": "21b8a276-22c4-410b-a226-3a9054b32894",
   "metadata": {},
   "outputs": [
    {
     "data": {
      "text/plain": [
       "<re.Match object; span=(27, 38), match='caterpillar'>"
      ]
     },
     "execution_count": 79,
     "metadata": {},
     "output_type": "execute_result"
    }
   ],
   "source": [
    "re.search(r\"cater(fish|nap|claw|pillar)\", testthree)"
   ]
  },
  {
   "cell_type": "code",
   "execution_count": null,
   "id": "a6f085be-7fcc-42fb-99a4-647604308746",
   "metadata": {},
   "outputs": [],
   "source": []
  }
 ],
 "metadata": {
  "kernelspec": {
   "display_name": "Python 3 (ipykernel)",
   "language": "python",
   "name": "python3"
  },
  "language_info": {
   "codemirror_mode": {
    "name": "ipython",
    "version": 3
   },
   "file_extension": ".py",
   "mimetype": "text/x-python",
   "name": "python",
   "nbconvert_exporter": "python",
   "pygments_lexer": "ipython3",
   "version": "3.12.4"
  }
 },
 "nbformat": 4,
 "nbformat_minor": 5
}
