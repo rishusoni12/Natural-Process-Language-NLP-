{
 "cells": [
  {
   "cell_type": "raw",
   "id": "4ad4452d-6d50-4f21-b117-f075a9af70ef",
   "metadata": {},
   "source": [
    "NER  Name Entity Recognition\n",
    "\n",
    "doc_ent mean entitie"
   ]
  },
  {
   "cell_type": "code",
   "execution_count": 5,
   "id": "892da987-7017-4299-aa43-17ee145d2df9",
   "metadata": {},
   "outputs": [],
   "source": [
    "import spacy\n",
    "nlp = spacy.load(\"en_core_web_sm\")"
   ]
  },
  {
   "cell_type": "code",
   "execution_count": 7,
   "id": "710a84a7-b8f0-4eb5-b958-1a1c5d4681d6",
   "metadata": {},
   "outputs": [],
   "source": [
    "#Write a Function to displacy basic entity info\n",
    "def show_ents(doc):\n",
    "    if doc.ents:\n",
    "        for ent in doc.ents:\n",
    "            print(ent.text+\" - \"+ent.label_+\" - \"+str(spacy.explain(ent.label_)))\n",
    "    else:\n",
    "        print(\"No named entities found.\")"
   ]
  },
  {
   "cell_type": "code",
   "execution_count": 9,
   "id": "8e5ac74a-6f22-4cd7-8b6f-79439ecccc37",
   "metadata": {},
   "outputs": [
    {
     "name": "stdout",
     "output_type": "stream",
     "text": [
      "Washington, DC - GPE - Countries, cities, states\n",
      "next May - DATE - Absolute or relative dates or periods\n",
      "the Washington Monument - ORG - Companies, agencies, institutions, etc.\n"
     ]
    }
   ],
   "source": [
    "doc = nlp(u\"May I go to Washington, DC next May to see the Washington Monument?\")\n",
    "show_ents(doc)"
   ]
  },
  {
   "cell_type": "raw",
   "id": "ea511b6b-f306-4d53-9915-477df3d639e8",
   "metadata": {},
   "source": [
    "ent.text               original entity text\n",
    "ent.label              entity type hash value\n",
    "ent.label_              entity type string description\n",
    "ent.start              token span *start* index position in the  doc\n",
    "ent.end                token span *stop* index position in the doc\n",
    "ent.start_char          entity text *start* index position in the doc\n",
    "ent.end_char            entity text *stop* index position in doc"
   ]
  },
  {
   "cell_type": "code",
   "execution_count": 11,
   "id": "e9899a4f-cb24-4b0e-950e-d8e886992701",
   "metadata": {},
   "outputs": [
    {
     "name": "stdout",
     "output_type": "stream",
     "text": [
      "500 4 5 5 20 23 CARDINAL\n",
      "Microsoft 11 12 12 52 61 ORG\n"
     ]
    }
   ],
   "source": [
    "doc = nlp(u\"Can I please borrow 500 dollor from you to buy some Microsoft stock\")\n",
    "\n",
    "for ent in doc.ents:\n",
    "    print(ent.text, ent.start, ent.end, ent.end, ent.start_char, ent.end_char, ent.label_)"
   ]
  },
  {
   "cell_type": "code",
   "execution_count": 13,
   "id": "ccbfacf9-6754-4a41-8c85-e9ef89f3736e",
   "metadata": {},
   "outputs": [
    {
     "name": "stdout",
     "output_type": "stream",
     "text": [
      "Can AUX aux\n",
      "I PRON nsubj\n",
      "please INTJ intj\n",
      "borrow VERB ROOT\n",
      "500 NUM nummod\n",
      "dollor NOUN dobj\n",
      "from ADP prep\n",
      "you PRON pobj\n",
      "to PART aux\n",
      "buy VERB advcl\n",
      "some DET det\n",
      "Microsoft PROPN compound\n",
      "stock NOUN dobj\n"
     ]
    }
   ],
   "source": [
    "for token in doc:\n",
    "    print(token.text, token.pos_, token.dep_)"
   ]
  },
  {
   "cell_type": "raw",
   "id": "6b78efa4-fca7-4081-9ce4-7b119c43e1c2",
   "metadata": {},
   "source": [
    "Adding Name Entity to a span"
   ]
  },
  {
   "cell_type": "code",
   "execution_count": 15,
   "id": "faaab946-0102-40c3-afaf-93907190ce9b",
   "metadata": {},
   "outputs": [
    {
     "name": "stdout",
     "output_type": "stream",
     "text": [
      "U.K. - GPE - Countries, cities, states\n",
      "$6 million - MONEY - Monetary values, including unit\n"
     ]
    }
   ],
   "source": [
    "doc = nlp(u\"Tesla to build a U.K. factory for $6 million\")   #tesla vocab  me nahi hai isliye print nahi ho rah hai uske vocab add akrna padega \n",
    "show_ents(doc)"
   ]
  },
  {
   "cell_type": "code",
   "execution_count": 23,
   "id": "39e4c57f-67b5-4908-999f-ebebfb00a9ba",
   "metadata": {},
   "outputs": [],
   "source": [
    "from spacy.tokens import Span   #vocab kuch bhi add karna hai Tesla\n",
    "#Get the hash value of ORG entity label\n",
    "ORG = doc.vocab.strings[u\"ORG\"]\n",
    "\n",
    "#Create a span for the new entity\n",
    "new_ent = Span(doc,0,1, label=ORG)\n",
    "\n",
    "#Add the entity to the existing Doc object\n",
    "doc.ents = list(doc.ents) + [new_ent]"
   ]
  },
  {
   "cell_type": "code",
   "execution_count": 25,
   "id": "4609b3bc-932f-4d78-8546-af3567802ab1",
   "metadata": {},
   "outputs": [
    {
     "name": "stdout",
     "output_type": "stream",
     "text": [
      "Tesla - ORG - Companies, agencies, institutions, etc.\n",
      "U.K. - GPE - Countries, cities, states\n",
      "$6 million - MONEY - Monetary values, including unit\n"
     ]
    }
   ],
   "source": [
    "show_ents(doc)"
   ]
  },
  {
   "cell_type": "code",
   "execution_count": 41,
   "id": "5ec8fb6f-04e6-43ff-a48c-d46f062df5dc",
   "metadata": {},
   "outputs": [
    {
     "name": "stdout",
     "output_type": "stream",
     "text": [
      "first - ORDINAL - \"first\", \"second\", etc.\n"
     ]
    }
   ],
   "source": [
    "#Adding Named Entitie to All Matching Span          #Oridnal matlab number fisrt second \n",
    "doc = nlp(u\"Our Company plans to introduce a new vaccum cleaner.\"\n",
    "         u\"If sucessful, the vacuum-cleaner will be our first product.\")\n",
    "\n",
    "show_ents(doc)"
   ]
  },
  {
   "cell_type": "code",
   "execution_count": 43,
   "id": "c5edb1bb-087d-470e-9ab0-ca61f14fe11c",
   "metadata": {},
   "outputs": [],
   "source": [
    "#Import PhraseMatcher phrase pattern\n",
    "from spacy.matcher import PhraseMatcher\n",
    "matcher = PhraseMatcher(nlp.vocab)"
   ]
  },
  {
   "cell_type": "code",
   "execution_count": 45,
   "id": "5218f342-d88b-4c82-90ec-a4c2dc12a79f",
   "metadata": {},
   "outputs": [
    {
     "data": {
      "text/plain": [
       "[(2689272359382549672, 7, 9), (2689272359382549672, 14, 17)]"
      ]
     },
     "execution_count": 45,
     "metadata": {},
     "output_type": "execute_result"
    }
   ],
   "source": [
    "#create the desired phraser pattern \n",
    "phrase_list = [\"vaccum cleaner\", \"vacuum-cleaner\"]  #ye doc me find karenge hai ki hai output dega\n",
    "phrase_pattern = [nlp(text) for text in phrase_list]\n",
    "\n",
    "#Apply the pattern to ur matcher object\n",
    "matcher.add(\"newproduct\", None, *phrase_pattern)\n",
    "\n",
    "#Apply the matcher to our Doc object\n",
    "matche = matcher(doc)\n",
    "#See what matche occur\n",
    "matche"
   ]
  },
  {
   "cell_type": "code",
   "execution_count": 49,
   "id": "3f4ec76f-475b-404d-b2b4-fc03bfac700a",
   "metadata": {},
   "outputs": [],
   "source": [
    "#Here we create span from each match and create named entitie from when  # add entit PRODUCT  jo ki isse pahle nahi le rah tha product ko\n",
    "from spacy.tokens import span\n",
    "\n",
    "PROD = doc.vocab.strings[u\"PRODUCT\"]\n",
    "\n",
    "new_ent = [Span(doc, match[1],match[2],label=PROD) for match in matche]\n",
    "\n",
    "doc.ents = list(doc.ents) + new_ent\n"
   ]
  },
  {
   "cell_type": "code",
   "execution_count": 53,
   "id": "362cbeae-32ee-4f9f-bcfe-bb8ae5a85a7e",
   "metadata": {},
   "outputs": [
    {
     "name": "stdout",
     "output_type": "stream",
     "text": [
      "vaccum cleaner - PRODUCT - Objects, vehicles, foods, etc. (not services)\n",
      "vacuum-cleaner - PRODUCT - Objects, vehicles, foods, etc. (not services)\n",
      "first - ORDINAL - \"first\", \"second\", etc.\n"
     ]
    }
   ],
   "source": [
    "show_ents(doc)"
   ]
  },
  {
   "cell_type": "code",
   "execution_count": 67,
   "id": "fe2c9978-cbc8-4190-9df0-863e04723d7b",
   "metadata": {},
   "outputs": [
    {
     "name": "stdout",
     "output_type": "stream",
     "text": [
      "29.50 - MONEY - Monetary values, including unit\n",
      "five - CARDINAL - Numerals that do not fall under another type\n"
     ]
    }
   ],
   "source": [
    "#Count Entite koi paarticular entitie kitni baar aa rah a hai \n",
    "doc = nlp(u\"Originally priced at $29.50, the sweater was marked down to five dollor\")\n",
    "show_ents(doc)"
   ]
  },
  {
   "cell_type": "code",
   "execution_count": 69,
   "id": "21ff332e-3a9b-4709-a29f-6019196085e5",
   "metadata": {},
   "outputs": [
    {
     "data": {
      "text/plain": [
       "1"
      ]
     },
     "execution_count": 69,
     "metadata": {},
     "output_type": "execute_result"
    }
   ],
   "source": [
    "len([ent for ent in doc.ents if ent.label_== \"MONEY\"])"
   ]
  },
  {
   "cell_type": "code",
   "execution_count": 75,
   "id": "b5aa151b-4af0-4c64-91ee-9f043d40b9d6",
   "metadata": {},
   "outputs": [
    {
     "name": "stdout",
     "output_type": "stream",
     "text": [
      "29.50 - MONEY - Monetary values, including unit\n",
      "five - CARDINAL - Numerals that do not fall under another type\n"
     ]
    }
   ],
   "source": [
    "#Line break ho toh kaise kare \n",
    "doc = nlp(u\"Originally priced at $29.50,\\nthe sweater was marked down to five dollors.\")\n",
    "show_ents(doc)"
   ]
  },
  {
   "cell_type": "code",
   "execution_count": 83,
   "id": "7d9549f1-d68a-410f-bd7f-1f2216f8207d",
   "metadata": {},
   "outputs": [
    {
     "name": "stdout",
     "output_type": "stream",
     "text": [
      "the sweater - sweater - nsubjpass - marked\n",
      "five dollors - dollors - pobj - to\n"
     ]
    }
   ],
   "source": [
    "#Noun chunk  \n",
    "# text\n",
    "# root.text\n",
    "# root.dep_\n",
    "# root.head.text\n",
    "noun_chunk = nlp(u\"Autonomouse cars shift insurence liability toward manufactures.\")\n",
    "\n",
    "for chunk in doc.noun_chunks:\n",
    "    print(chunk.text+' - '+chunk.root.text+' - '+chunk.root.dep_+' - '+chunk.root.head.text)"
   ]
  },
  {
   "cell_type": "code",
   "execution_count": 85,
   "id": "db06e9c2-225a-4f1f-b27e-ad86266989b0",
   "metadata": {},
   "outputs": [
    {
     "ename": "TypeError",
     "evalue": "object of type 'generator' has no len()",
     "output_type": "error",
     "traceback": [
      "\u001b[1;31m---------------------------------------------------------------------------\u001b[0m",
      "\u001b[1;31mTypeError\u001b[0m                                 Traceback (most recent call last)",
      "Cell \u001b[1;32mIn[85], line 2\u001b[0m\n\u001b[0;32m      1\u001b[0m \u001b[38;5;66;03m#noun_chunk len aishe nahi niklega\u001b[39;00m\n\u001b[1;32m----> 2\u001b[0m \u001b[38;5;28mlen\u001b[39m(doc\u001b[38;5;241m.\u001b[39mnoun_chunks)\n",
      "\u001b[1;31mTypeError\u001b[0m: object of type 'generator' has no len()"
     ]
    }
   ],
   "source": [
    "#noun_chunk len aishe nahi niklega\n",
    "len(doc.noun_chunks)"
   ]
  },
  {
   "cell_type": "code",
   "execution_count": 87,
   "id": "4f7f8804-9ea2-4def-babc-ad0dc8362256",
   "metadata": {},
   "outputs": [
    {
     "data": {
      "text/plain": [
       "2"
      ]
     },
     "execution_count": 87,
     "metadata": {},
     "output_type": "execute_result"
    }
   ],
   "source": [
    "len(list(doc.noun_chunks))  #noun_chunk ki len nikalne ke liye list chahiye"
   ]
  },
  {
   "cell_type": "code",
   "execution_count": 89,
   "id": "560c1423-9d65-4c57-be1f-0a834ec8bbfd",
   "metadata": {},
   "outputs": [],
   "source": [
    "#Visulization Name Entitie doc\n",
    "#Perform standard import\n",
    "nlp = spacy.load(\"en_core_web_sm\")\n",
    "\n",
    "#Import the displacy library\n",
    "from spacy import displacy\n"
   ]
  },
  {
   "cell_type": "code",
   "execution_count": 95,
   "id": "69a02a3a-1ce7-4f98-b198-a4dc7e2ba3d2",
   "metadata": {},
   "outputs": [
    {
     "data": {
      "text/html": [
       "<span class=\"tex2jax_ignore\"><div class=\"entities\" style=\"line-height: 2.5; direction: ltr\">Over \n",
       "<mark class=\"entity\" style=\"background: #bfe1d9; padding: 0.45em 0.6em; margin: 0 0.25em; line-height: 1; border-radius: 0.35em;\">\n",
       "    the last quater\n",
       "    <span style=\"font-size: 0.8em; font-weight: bold; line-height: 1; border-radius: 0.35em; vertical-align: middle; margin-left: 0.5rem\">DATE</span>\n",
       "</mark>\n",
       " \n",
       "<mark class=\"entity\" style=\"background: #7aecec; padding: 0.45em 0.6em; margin: 0 0.25em; line-height: 1; border-radius: 0.35em;\">\n",
       "    Apple\n",
       "    <span style=\"font-size: 0.8em; font-weight: bold; line-height: 1; border-radius: 0.35em; vertical-align: middle; margin-left: 0.5rem\">ORG</span>\n",
       "</mark>\n",
       " sold \n",
       "<mark class=\"entity\" style=\"background: #e4e7d2; padding: 0.45em 0.6em; margin: 0 0.25em; line-height: 1; border-radius: 0.35em;\">\n",
       "    nearly 20 thousand\n",
       "    <span style=\"font-size: 0.8em; font-weight: bold; line-height: 1; border-radius: 0.35em; vertical-align: middle; margin-left: 0.5rem\">CARDINAL</span>\n",
       "</mark>\n",
       " ipods for a profit of \n",
       "<mark class=\"entity\" style=\"background: #e4e7d2; padding: 0.45em 0.6em; margin: 0 0.25em; line-height: 1; border-radius: 0.35em;\">\n",
       "    $6 million\n",
       "    <span style=\"font-size: 0.8em; font-weight: bold; line-height: 1; border-radius: 0.35em; vertical-align: middle; margin-left: 0.5rem\">MONEY</span>\n",
       "</mark>\n",
       ".By contrast, \n",
       "<mark class=\"entity\" style=\"background: #7aecec; padding: 0.45em 0.6em; margin: 0 0.25em; line-height: 1; border-radius: 0.35em;\">\n",
       "    Sony\n",
       "    <span style=\"font-size: 0.8em; font-weight: bold; line-height: 1; border-radius: 0.35em; vertical-align: middle; margin-left: 0.5rem\">ORG</span>\n",
       "</mark>\n",
       " sold \n",
       "<mark class=\"entity\" style=\"background: #e4e7d2; padding: 0.45em 0.6em; margin: 0 0.25em; line-height: 1; border-radius: 0.35em;\">\n",
       "    only 7 thousand\n",
       "    <span style=\"font-size: 0.8em; font-weight: bold; line-height: 1; border-radius: 0.35em; vertical-align: middle; margin-left: 0.5rem\">CARDINAL</span>\n",
       "</mark>\n",
       " Walkman music players.</div></span>"
      ],
      "text/plain": [
       "<IPython.core.display.HTML object>"
      ]
     },
     "metadata": {},
     "output_type": "display_data"
    }
   ],
   "source": [
    "doc = nlp(u\"Over the last quater Apple sold nearly 20 thousand ipods for a profit of $6 million.\"\n",
    "        u\"By contrast, Sony sold only 7 thousand Walkman music players.\")\n",
    "displacy.render(doc, style=\"ent\", jupyter=True)"
   ]
  },
  {
   "cell_type": "code",
   "execution_count": 97,
   "id": "2c5c7033-ec90-43e1-b1e2-1045d586df9c",
   "metadata": {},
   "outputs": [
    {
     "data": {
      "text/html": [
       "<span class=\"tex2jax_ignore\"><div class=\"entities\" style=\"line-height: 2.5; direction: ltr\">Over \n",
       "<mark class=\"entity\" style=\"background: #bfe1d9; padding: 0.45em 0.6em; margin: 0 0.25em; line-height: 1; border-radius: 0.35em;\">\n",
       "    the last quater\n",
       "    <span style=\"font-size: 0.8em; font-weight: bold; line-height: 1; border-radius: 0.35em; vertical-align: middle; margin-left: 0.5rem\">DATE</span>\n",
       "</mark>\n",
       " \n",
       "<mark class=\"entity\" style=\"background: #7aecec; padding: 0.45em 0.6em; margin: 0 0.25em; line-height: 1; border-radius: 0.35em;\">\n",
       "    Apple\n",
       "    <span style=\"font-size: 0.8em; font-weight: bold; line-height: 1; border-radius: 0.35em; vertical-align: middle; margin-left: 0.5rem\">ORG</span>\n",
       "</mark>\n",
       " sold \n",
       "<mark class=\"entity\" style=\"background: #e4e7d2; padding: 0.45em 0.6em; margin: 0 0.25em; line-height: 1; border-radius: 0.35em;\">\n",
       "    nearly 20 thousand\n",
       "    <span style=\"font-size: 0.8em; font-weight: bold; line-height: 1; border-radius: 0.35em; vertical-align: middle; margin-left: 0.5rem\">CARDINAL</span>\n",
       "</mark>\n",
       " ipods for a profit of \n",
       "<mark class=\"entity\" style=\"background: #e4e7d2; padding: 0.45em 0.6em; margin: 0 0.25em; line-height: 1; border-radius: 0.35em;\">\n",
       "    $6 million\n",
       "    <span style=\"font-size: 0.8em; font-weight: bold; line-height: 1; border-radius: 0.35em; vertical-align: middle; margin-left: 0.5rem\">MONEY</span>\n",
       "</mark>\n",
       ".</div></span>"
      ],
      "text/plain": [
       "<IPython.core.display.HTML object>"
      ]
     },
     "metadata": {},
     "output_type": "display_data"
    },
    {
     "data": {
      "text/html": [
       "<span class=\"tex2jax_ignore\"><div class=\"entities\" style=\"line-height: 2.5; direction: ltr\">By contrast, \n",
       "<mark class=\"entity\" style=\"background: #7aecec; padding: 0.45em 0.6em; margin: 0 0.25em; line-height: 1; border-radius: 0.35em;\">\n",
       "    Sony\n",
       "    <span style=\"font-size: 0.8em; font-weight: bold; line-height: 1; border-radius: 0.35em; vertical-align: middle; margin-left: 0.5rem\">ORG</span>\n",
       "</mark>\n",
       " sold \n",
       "<mark class=\"entity\" style=\"background: #e4e7d2; padding: 0.45em 0.6em; margin: 0 0.25em; line-height: 1; border-radius: 0.35em;\">\n",
       "    only 7 thousand\n",
       "    <span style=\"font-size: 0.8em; font-weight: bold; line-height: 1; border-radius: 0.35em; vertical-align: middle; margin-left: 0.5rem\">CARDINAL</span>\n",
       "</mark>\n",
       " Walkman music players.</div></span>"
      ],
      "text/plain": [
       "<IPython.core.display.HTML object>"
      ]
     },
     "metadata": {},
     "output_type": "display_data"
    }
   ],
   "source": [
    "#View sentence line by line \n",
    "for sent in doc.sents:\n",
    "    displacy.render(nlp(sent.text), style=\"ent\", jupyter=True)"
   ]
  },
  {
   "cell_type": "code",
   "execution_count": 99,
   "id": "b8099bfc-9f38-4b72-ad5a-3d2a898a9094",
   "metadata": {},
   "outputs": [
    {
     "data": {
      "text/html": [
       "<span class=\"tex2jax_ignore\"><div class=\"entities\" style=\"line-height: 2.5; direction: ltr\">Over \n",
       "<mark class=\"entity\" style=\"background: #bfe1d9; padding: 0.45em 0.6em; margin: 0 0.25em; line-height: 1; border-radius: 0.35em;\">\n",
       "    the last quarter\n",
       "    <span style=\"font-size: 0.8em; font-weight: bold; line-height: 1; border-radius: 0.35em; vertical-align: middle; margin-left: 0.5rem\">DATE</span>\n",
       "</mark>\n",
       " \n",
       "<mark class=\"entity\" style=\"background: #7aecec; padding: 0.45em 0.6em; margin: 0 0.25em; line-height: 1; border-radius: 0.35em;\">\n",
       "    Apple\n",
       "    <span style=\"font-size: 0.8em; font-weight: bold; line-height: 1; border-radius: 0.35em; vertical-align: middle; margin-left: 0.5rem\">ORG</span>\n",
       "</mark>\n",
       " sold \n",
       "<mark class=\"entity\" style=\"background: #e4e7d2; padding: 0.45em 0.6em; margin: 0 0.25em; line-height: 1; border-radius: 0.35em;\">\n",
       "    nearly 20 thousand\n",
       "    <span style=\"font-size: 0.8em; font-weight: bold; line-height: 1; border-radius: 0.35em; vertical-align: middle; margin-left: 0.5rem\">CARDINAL</span>\n",
       "</mark>\n",
       " iPods for a profit of \n",
       "<mark class=\"entity\" style=\"background: #e4e7d2; padding: 0.45em 0.6em; margin: 0 0.25em; line-height: 1; border-radius: 0.35em;\">\n",
       "    $6 million\n",
       "    <span style=\"font-size: 0.8em; font-weight: bold; line-height: 1; border-radius: 0.35em; vertical-align: middle; margin-left: 0.5rem\">MONEY</span>\n",
       "</mark>\n",
       ".</div></span>"
      ],
      "text/plain": [
       "<IPython.core.display.HTML object>"
      ]
     },
     "metadata": {},
     "output_type": "display_data"
    },
    {
     "name": "stderr",
     "output_type": "stream",
     "text": [
      "C:\\Users\\soniv\\anaconda3\\Lib\\site-packages\\spacy\\displacy\\__init__.py:213: UserWarning: [W006] No entities to visualize found in Doc object. If this is surprising to you, make sure the Doc was processed using a model that supports named entity recognition, and check the `doc.ents` property manually if necessary.\n",
      "  warnings.warn(Warnings.W006)\n"
     ]
    },
    {
     "data": {
      "text/html": [
       "<span class=\"tex2jax_ignore\"><div class=\"entities\" style=\"line-height: 2.5; direction: ltr\">By contrast, my kind sold a lot of lemonade.</div></span>"
      ],
      "text/plain": [
       "<IPython.core.display.HTML object>"
      ]
     },
     "metadata": {},
     "output_type": "display_data"
    }
   ],
   "source": [
    "doc2 = nlp(u\"Over the last quarter Apple sold nearly 20 thousand iPods for a profit of $6 million.\"\n",
    "           u\"By contrast, my kind sold a lot of lemonade.\")  # ye diagram isliye nahi ban ki ushe kuch nahi mila ish line me\n",
    "\n",
    "for sent in doc2.sents:\n",
    "    displacy.render(nlp(sent.text), style=\"ent\", jupyter=True)"
   ]
  },
  {
   "cell_type": "code",
   "execution_count": null,
   "id": "4e7b1a41-ca44-4f83-8257-992274e7f4fd",
   "metadata": {},
   "outputs": [],
   "source": []
  }
 ],
 "metadata": {
  "kernelspec": {
   "display_name": "Python 3 (ipykernel)",
   "language": "python",
   "name": "python3"
  },
  "language_info": {
   "codemirror_mode": {
    "name": "ipython",
    "version": 3
   },
   "file_extension": ".py",
   "mimetype": "text/x-python",
   "name": "python",
   "nbconvert_exporter": "python",
   "pygments_lexer": "ipython3",
   "version": "3.12.4"
  }
 },
 "nbformat": 4,
 "nbformat_minor": 5
}
